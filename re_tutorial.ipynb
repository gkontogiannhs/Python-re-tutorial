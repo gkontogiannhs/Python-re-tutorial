{
 "cells": [
  {
   "cell_type": "markdown",
   "id": "d5c3ad02",
   "metadata": {},
   "source": [
    "## In this repository we will explore the basic functionality of python re library."
   ]
  },
  {
   "cell_type": "markdown",
   "id": "e9ed6bcc",
   "metadata": {},
   "source": [
    "## But first, a quick reminder of regex\n",
    "### These are the most common regular expression operators by category, and most of the time you'll use them to create your regular expressions. However, there are many more specialized operators that can be used for more advanced pattern matching."
   ]
  },
  {
   "cell_type": "markdown",
   "id": "bc578a25",
   "metadata": {},
   "source": [
    "### Anchors"
   ]
  },
  {
   "cell_type": "markdown",
   "id": "f697b0e9",
   "metadata": {},
   "source": [
    "^: Matches the start of a line\n",
    "$: Matches the end of a line"
   ]
  },
  {
   "cell_type": "markdown",
   "id": "675c2962",
   "metadata": {},
   "source": [
    "### Character classes"
   ]
  },
  {
   "cell_type": "markdown",
   "id": "9e0f6df9",
   "metadata": {},
   "source": [
    "\\w: Matches any word character (alphanumeric and underscore)\n",
    "\\d: Matches any digit\n",
    "\\s: Matches any whitespace\n",
    "\\b: Matches a word boundary\n",
    "\\W: Matches any non-word character\n",
    "\\D: Matches any non-digit character\n",
    "\\S: Matches any non-whitespace character\n",
    "\\B: Matches a word boundary\n",
    "\n",
    "[]: Matches any character inside the brackets\n",
    "[a-z]: Matches any lowercase letter\n",
    "[A-Z]: Matches any uppercase letter\n",
    "[0-9]: Matches any digit\n",
    "[a-zA-z0-9]: Matches any letter or digit\n",
    "\n",
    "\\p{Punct}: Matches any punctuation character\n",
    "\\p{Lower}: Matches any lowercase letter\n",
    "\\p{Upper}: Matches any uppercase letter"
   ]
  },
  {
   "cell_type": "markdown",
   "id": "2416a1ee",
   "metadata": {},
   "source": [
    "### Quantifiers"
   ]
  },
  {
   "cell_type": "markdown",
   "id": "fb474eed",
   "metadata": {},
   "source": [
    "*: Matches zero or more of the preceding element\n",
    "+: Matches one or more of the preceding element\n",
    "?: Matches zero or one of the preceding element\n",
    "{n}: Matches exactly n of the preceding element\n",
    "{n,}: Matches n or more of the preceding element\n",
    "{n,m}: Matches at least n and at most m of the preceding element"
   ]
  },
  {
   "cell_type": "markdown",
   "id": "abb916fd",
   "metadata": {},
   "source": [
    "### Special characters"
   ]
  },
  {
   "cell_type": "markdown",
   "id": "b2215505",
   "metadata": {},
   "source": [
    ".: Matches any character except newline\n",
    "\\: Escapes the following character\n",
    "|: Alternation operator, matches the preceding or the next pattern (Alternation)"
   ]
  },
  {
   "cell_type": "markdown",
   "id": "ff06cf96",
   "metadata": {},
   "source": [
    "### Groups"
   ]
  },
  {
   "cell_type": "markdown",
   "id": "f0e10053",
   "metadata": {},
   "source": [
    "(): Creates a capture group\n",
    "(?:): Creates a non-capturing group\n",
    "\n",
    "Lookaround:\n",
    "(?=...): Positive lookahead\n",
    "(?!...): Negative lookahead\n",
    "(?<=...): Positive lookbehind\n",
    "(?<!...): Negative lookbehind"
   ]
  },
  {
   "cell_type": "markdown",
   "id": "407fe96c",
   "metadata": {},
   "source": [
    "### The main re methods"
   ]
  },
  {
   "cell_type": "markdown",
   "id": "7d4b0e2a",
   "metadata": {},
   "source": [
    "1. re.compile(pattern, flags=0): This method is used to create a regular expression object that can be used to perform multiple operations such as search, match, finditer, findall, sub, and split.\n",
    "\n",
    "2. search(string): This method searches for the first occurrence of a pattern in a string and returns a match object if found.\n",
    "\n",
    "3. match(string): This method matches the pattern only at the beginning of the string and returns a match object if found.\n",
    "\n",
    "4. findall(string): This method returns a list of all non-overlapping matches of the pattern in the string as a list of strings.\n",
    "\n",
    "5. finditer(string): This method returns an iterator yielding match objects for all non-overlapping matches of the pattern in the string.\n",
    "\n",
    "6. sub(repl, string): This method replaces all occurrences of the pattern in the string with a replacement string.\n",
    "\n",
    "7. split(string): This method splits the string by the occurrences of the pattern."
   ]
  },
  {
   "cell_type": "markdown",
   "id": "a120471d",
   "metadata": {},
   "source": [
    "The methods 2-7 can be either called directly from re library ( re.search(regex_pattern, string) ) or\n",
    "as a pattern object method ( re.compile(regex_pattern).search(string) ).\n",
    "In this tutorial we will follow the latter."
   ]
  },
  {
   "cell_type": "code",
   "execution_count": 2,
   "id": "b90fe338",
   "metadata": {},
   "outputs": [],
   "source": [
    "import re"
   ]
  },
  {
   "cell_type": "code",
   "execution_count": 3,
   "id": "9e7903a4",
   "metadata": {},
   "outputs": [],
   "source": [
    "string = '''\n",
    "The Cat in the hat, sat there with a fat rat. He ate a mat, and a bat came out of nowhere to attack.\n",
    "He had 2 cats, one was black and one was white. He also had 4 dogs, 2 of them were big and 2 of them were small.\n",
    "He wanted to buy a new Dog, but he couldn't decide between a Labrador or a Golden Retriever.\n",
    "In the end, he decided to adopt a stray Cat from the street. He painted his room in #ff0000 color.\n",
    "His email address is moew@gmail.com and his phone numbers 555-555-5555, 555.555.5555, 555555-5555, 555555.5555, 1234560000.\n",
    "He was born on 12/05/2018, and he graduated on 20/01/2023. He also has a website https://www.example.com.\n",
    "He likes to shop online and his favorite store is http://store.com and also likes to shop at www.store2.com.\n",
    "His favorite color is blue and he likes to buy items that cost $9.99, $19.99, $29.99 and also $39.99.\n",
    "He also likes to buy items that have a discount of $5.99 and $9.99. He has a dog named Buddy with a collar number #123456.\n",
    "His best friend's email is bestfriend@example.com and his phone number is 555-555-5556.\n",
    "They usually meet every 15th of the month at 7:00 pm.\n",
    "My current IP address is 192.168.1.1 but I'm planning to switch to a new one, it's 10.0.0.1. \n",
    "I just made a purchase using my credit card number 4111 1111 1111 1111 with expiration date of 12/24 and security code 123.\n",
    "I can't wait to share my new book #datascience on twitter and Instagram.\n",
    "it's ISBN number is 123-4-56789-0123-5 and it will be available on Amazon and Barnes & Noble.\n",
    "My friend @johndoe lives at 123 Main St, Anytown USA 12345 and he told me that his neighbor lives at 124 Main St, Anytown USA 12345.\n",
    "I'm planning to visit my family in Los Angeles, CA on 12/24/2022 and stay there for 2 days. I'll be staying at my cousin's house located at 1234 Elm St, Los Angeles CA 90210.\n",
    "I'm also planning to visit my friend in New York, NY on 24-12-2022 and stay there for 2 days, I'll be staying at my friend's apartment located at 123 Broadway, New York NY 10001.\n",
    "I'm also planning to visit my sister in London, UK on 2022-12-24 and stay there for 2 days, I'll be staying at my friend's flat located at 123 Oxford St, London UK W1D 2LJ.\n",
    "I need to remember to bring my passport with expiration date of 12/24/2022, my driver's license with number 12345678 and my insurance card with number 123456789.\n",
    "\n",
    "'''"
   ]
  },
  {
   "cell_type": "markdown",
   "id": "08223799",
   "metadata": {},
   "source": [
    "## Starter Exercises"
   ]
  },
  {
   "cell_type": "markdown",
   "id": "904b1951",
   "metadata": {},
   "source": [
    "1. Check if string starts with blanks\n",
    "2. Check if the text contains phone numbers\n",
    "3. Check if the text contains the word cat case-insensitive\n",
    "4. Extract the first phone number in the format 555-555-5555 from the text.\n",
    "5. Extract the first email address from the text.\n",
    "6. Extract all the prices in the format $999.99 from the text.\n",
    "7. Extract and create a list of all the URLs from the text.\n",
    "8. Replace all the collar numbers in the format ddd-ddd-dddd with \"ddd-XX-XXXX\"\n",
    "9. Split the text into a list of sentences."
   ]
  },
  {
   "cell_type": "code",
   "execution_count": 21,
   "id": "3321112c",
   "metadata": {},
   "outputs": [],
   "source": [
    "pattern = re.compile(r'\\S+')\n",
    "pattern.match(string)"
   ]
  },
  {
   "cell_type": "code",
   "execution_count": 12,
   "id": "9f292d60",
   "metadata": {},
   "outputs": [
    {
     "name": "stdout",
     "output_type": "stream",
     "text": [
      "Phone nubmer exists\n"
     ]
    }
   ],
   "source": [
    "pattern = re.compile(r'\\d{3}-\\d{3}-\\d{4}')\n",
    "if pattern.search(string): print(\"Phone nubmer exists\")"
   ]
  },
  {
   "cell_type": "markdown",
   "id": "4b0a886a",
   "metadata": {},
   "source": [
    "### More Advanced Exercises"
   ]
  },
  {
   "cell_type": "markdown",
   "id": "4dad0580",
   "metadata": {},
   "source": [
    "1. Extract all the dates in the format DD/MM/YYYY from the text considering if they are valid dates\n",
    "2. Extract all the email addresses from the text considering if they are valid \n",
    "3. Extract all the phone numbers from the text in different formats (xxx-xxx-xxxx, xxx.xxx.xxxx, xxxxxxxxxx, xxx xxx xxxx)\n",
    "4. Extract all the IP addresses from the text considering if they are valid IP addresses\n",
    "5. Extract all the URLs from the text and check if they are valid URLs\n",
    "6. Extract all the credit card numbers from the text considering if they are valid credit card numbers\n",
    "7. Extract all the hashtags from the text (e.g. #example)\n",
    "8. Extract all the mentions from the text (e.g. @example)\n",
    "9. Extract all the dates and times in multiple formats (MM/DD/YYYY, DD-MM-YYYY, YYYY-MM-DD)\n",
    "10. Extract all the ISBN numbers from the text and check if they are valid ISBN numbers\n",
    "11. Extract all the street addresses from the text\n",
    "12. Extract all the zip codes from the text\n",
    "13. Extract all the words that contains both vowels and consonants from the text\n",
    "14. Extract all the words that contains at least 3 vowels from the text\n",
    "15. Extract all the words that are palindrome from the text\n",
    "16. Replace all the street addresses in the text with the string \"ADDRESS REDACTED\" while keeping the zip codes\n",
    "17. Replace all the credit card numbers in the text with the string \"CARD NUMBER REDACTED\" while keeping the expiration dates\n",
    "18. Split the text into a list of sentences, where each sentence starts with a capital letter and ends with a full stop,       exclamation mark or question mark.\n",
    "19. Split the text into a list of paragraphs, where each paragraph starts with a newline and two spaces.\n",
    "20. Split the text into a list of words, where each word starts with a capital letter."
   ]
  },
  {
   "cell_type": "code",
   "execution_count": null,
   "id": "1ea8460a",
   "metadata": {},
   "outputs": [],
   "source": []
  }
 ],
 "metadata": {
  "kernelspec": {
   "display_name": "Python 3 (ipykernel)",
   "language": "python",
   "name": "python3"
  },
  "language_info": {
   "codemirror_mode": {
    "name": "ipython",
    "version": 3
   },
   "file_extension": ".py",
   "mimetype": "text/x-python",
   "name": "python",
   "nbconvert_exporter": "python",
   "pygments_lexer": "ipython3",
   "version": "3.10.4"
  }
 },
 "nbformat": 4,
 "nbformat_minor": 5
}
